{
 "cells": [
  {
   "cell_type": "markdown",
   "metadata": {},
   "source": [
    "# Webscrapeo : Ubica tu casilla"
   ]
  },
  {
   "cell_type": "markdown",
   "metadata": {},
   "source": [
    "### Paquetes"
   ]
  },
  {
   "cell_type": "code",
   "execution_count": 1,
   "metadata": {},
   "outputs": [],
   "source": [
    "import requests\n",
    "import numpy as np\n",
    "import pandas as pd"
   ]
  },
  {
   "cell_type": "markdown",
   "metadata": {},
   "source": [
    "### Pipeline"
   ]
  },
  {
   "cell_type": "code",
   "execution_count": 60,
   "metadata": {},
   "outputs": [],
   "source": [
    "API = \"https://us-central1-ine-ubica-tu-casilla.cloudfunctions.net/utc-api/search/rasgo-with-cmr-uts?e=1&s=488\"\n",
    "headers = {\"authority\": \"us-central1-ine-ubica-tu-casilla.cloudfunctions.net\",\n",
    "            \"method\": \"GET\",\n",
    "            \"scheme\": \"https\",\n",
    "            \"accept\": \"application/json, text/plain, */*\",\n",
    "            \"accept-encoding\": \"gzip, deflate, br\",\n",
    "            \"origin\": \"https://ubicatucasilla.ine.mx\",\n",
    "            \"referer\": \"https://ubicatucasilla.ine.mx/\",\n",
    "            \"user-agent\": \"Mozilla/5.0 (Windows NT 10.0; Win64; x64) AppleWebKit/537.36 (KHTML, like Gecko) Chrome/100.0.4896.75 Safari/537.36\",\n",
    "            \"x-utc-service-id\": \"ubicatucasilla\",\n",
    "            \"x-utc-version-id\": \"2022\"}"
   ]
  },
  {
   "cell_type": "code",
   "execution_count": 84,
   "metadata": {},
   "outputs": [],
   "source": [
    "def get_raw_df(API, num_casilla):\n",
    "    \"\"\"\n",
    "    Extrae el dataframe de una casilla a partir del API\n",
    "     \n",
    "    Parameters\n",
    "    API: string\n",
    "        URL del API\n",
    "    num_casilla: int\n",
    "        Numero de casilla a extraer\n",
    "    \"\"\"\n",
    "\n",
    "    new_API = API.replace(\"s=488\", f\"s={num_casilla}\")\n",
    "    r = requests.get(new_API, headers=headers)\n",
    "\n",
    "    if r.json()['status'] == False:\n",
    "        raw_df = pd.DataFrame([])\n",
    "        content = {}\n",
    "    else:\n",
    "        content = r.json()['data'][0]['items']\n",
    "        \n",
    "        raw_df = pd.DataFrame(content[0]['apellidos'])\n",
    "        raw_df['domicilio'] = content[0]['data']['domicilio']\n",
    "        raw_df['ubicacion'] = content[0]['data']['ubicacion']\n",
    "\n",
    "        raw_df['entidad'] = content[0]['entidadSede']\n",
    "        raw_df['distitoSede'] = content[0]['distritoSede']\n",
    "\n",
    "        raw_df \n",
    "\n",
    "    return raw_df, content"
   ]
  },
  {
   "cell_type": "code",
   "execution_count": 83,
   "metadata": {},
   "outputs": [
    {
     "data": {
      "text/plain": [
       "[{'code': '03',\n",
       "  'seccionSede': 430,\n",
       "  'entidadSede': 1,\n",
       "  'distritoSede': 1,\n",
       "  'distrito_localSede': 3,\n",
       "  'utSede': 13,\n",
       "  'secciones': ['0430', '0448', '0451', '0488'],\n",
       "  'apellidos': [{'casilla': 'B',\n",
       "    'inicial': 'ACEVEDO ESPARZA',\n",
       "    'final': 'IBARRA GUTIERREZ'},\n",
       "   {'casilla': 'C1', 'inicial': 'IBARRA GUTIERREZ', 'final': 'ZUBIA MOLINA'}],\n",
       "  'reference': {'dce': {'geom': {'coordinates': [-102.336903477, 22.121603974],\n",
       "     'type': 'Point'},\n",
       "    'ref': {'distrito_federal': 1,\n",
       "     'distrito_local': 3,\n",
       "     'entidad': 1,\n",
       "     'seccion': 430},\n",
       "    'version': '2021'}},\n",
       "  'data': {'ut': 13,\n",
       "   'active': True,\n",
       "   'domicilio': 'CALLE 5 DE MAYO, NÚMERO 114, SANTIAGO, 20667, PABELLÓN DE ARTEAGA, AGUASCALIENTES',\n",
       "   'referencia': 'ENTRE 5 DE MAYO Y EMILIANO ZAPATA',\n",
       "   'ubicacion': 'ESCUELA PRIMARIA 16 DE SEPTIEMBRE',\n",
       "   'dce': {'coordinates': [-102.336903477, 22.121603974], 'type': 'Point'},\n",
       "   'geom': {'coordinates': [-102.336903477, 22.121603974], 'type': 'Point'}}}]"
      ]
     },
     "execution_count": 83,
     "metadata": {},
     "output_type": "execute_result"
    }
   ],
   "source": [
    "raw_df, content = get_raw_df(API, 488)\n",
    "content"
   ]
  },
  {
   "cell_type": "code",
   "execution_count": null,
   "metadata": {},
   "outputs": [],
   "source": [
    "def get_clean_df(raw_df, content):\n",
    "    \"\"\"\n",
    "    \"\"\"\n",
    "    raw_secciones = content[0]['secciones']\n",
    "\n",
    "    clean_secciones = [int(x) for x in raw_secciones]\n",
    "    complete_df = pd.DataFrame([])\n",
    "\n",
    "    for clean_seccion in clean_secciones:\n",
    "        copy_df = raw_df.copy()\n",
    "        copy_df['seccion'] = clean_seccion\n",
    "\n",
    "        complete_df = pd.concat([complete_df, copy_df], \n",
    "                                ignore_index=True)"
   ]
  },
  {
   "cell_type": "code",
   "execution_count": 80,
   "metadata": {},
   "outputs": [
    {
     "data": {
      "text/html": [
       "<div>\n",
       "<style scoped>\n",
       "    .dataframe tbody tr th:only-of-type {\n",
       "        vertical-align: middle;\n",
       "    }\n",
       "\n",
       "    .dataframe tbody tr th {\n",
       "        vertical-align: top;\n",
       "    }\n",
       "\n",
       "    .dataframe thead th {\n",
       "        text-align: right;\n",
       "    }\n",
       "</style>\n",
       "<table border=\"1\" class=\"dataframe\">\n",
       "  <thead>\n",
       "    <tr style=\"text-align: right;\">\n",
       "      <th></th>\n",
       "      <th>casilla</th>\n",
       "      <th>inicial</th>\n",
       "      <th>final</th>\n",
       "      <th>domicilio</th>\n",
       "      <th>ubicacion</th>\n",
       "      <th>entidad</th>\n",
       "      <th>distitoSede</th>\n",
       "    </tr>\n",
       "  </thead>\n",
       "  <tbody>\n",
       "    <tr>\n",
       "      <th>0</th>\n",
       "      <td>B</td>\n",
       "      <td>ACEVEDO ESPARZA</td>\n",
       "      <td>IBARRA GUTIERREZ</td>\n",
       "      <td>CALLE 5 DE MAYO, NÚMERO 114, SANTIAGO, 20667, ...</td>\n",
       "      <td>ESCUELA PRIMARIA 16 DE SEPTIEMBRE</td>\n",
       "      <td>1</td>\n",
       "      <td>1</td>\n",
       "    </tr>\n",
       "    <tr>\n",
       "      <th>1</th>\n",
       "      <td>C1</td>\n",
       "      <td>IBARRA GUTIERREZ</td>\n",
       "      <td>ZUBIA MOLINA</td>\n",
       "      <td>CALLE 5 DE MAYO, NÚMERO 114, SANTIAGO, 20667, ...</td>\n",
       "      <td>ESCUELA PRIMARIA 16 DE SEPTIEMBRE</td>\n",
       "      <td>1</td>\n",
       "      <td>1</td>\n",
       "    </tr>\n",
       "  </tbody>\n",
       "</table>\n",
       "</div>"
      ],
      "text/plain": [
       "  casilla           inicial             final  \\\n",
       "0       B   ACEVEDO ESPARZA  IBARRA GUTIERREZ   \n",
       "1      C1  IBARRA GUTIERREZ      ZUBIA MOLINA   \n",
       "\n",
       "                                           domicilio  \\\n",
       "0  CALLE 5 DE MAYO, NÚMERO 114, SANTIAGO, 20667, ...   \n",
       "1  CALLE 5 DE MAYO, NÚMERO 114, SANTIAGO, 20667, ...   \n",
       "\n",
       "                           ubicacion  entidad  distitoSede  \n",
       "0  ESCUELA PRIMARIA 16 DE SEPTIEMBRE        1            1  \n",
       "1  ESCUELA PRIMARIA 16 DE SEPTIEMBRE        1            1  "
      ]
     },
     "execution_count": 80,
     "metadata": {},
     "output_type": "execute_result"
    }
   ],
   "source": [
    "\n",
    "raw_df"
   ]
  },
  {
   "cell_type": "code",
   "execution_count": 68,
   "metadata": {},
   "outputs": [
    {
     "data": {
      "text/html": [
       "<div>\n",
       "<style scoped>\n",
       "    .dataframe tbody tr th:only-of-type {\n",
       "        vertical-align: middle;\n",
       "    }\n",
       "\n",
       "    .dataframe tbody tr th {\n",
       "        vertical-align: top;\n",
       "    }\n",
       "\n",
       "    .dataframe thead th {\n",
       "        text-align: right;\n",
       "    }\n",
       "</style>\n",
       "<table border=\"1\" class=\"dataframe\">\n",
       "  <thead>\n",
       "    <tr style=\"text-align: right;\">\n",
       "      <th></th>\n",
       "      <th>casilla</th>\n",
       "      <th>inicial</th>\n",
       "      <th>final</th>\n",
       "      <th>domicilio</th>\n",
       "      <th>ubicacion</th>\n",
       "      <th>entidad</th>\n",
       "      <th>distitoSede</th>\n",
       "      <th>seccion</th>\n",
       "    </tr>\n",
       "  </thead>\n",
       "  <tbody>\n",
       "    <tr>\n",
       "      <th>0</th>\n",
       "      <td>B</td>\n",
       "      <td>ACEVEDO ESPARZA</td>\n",
       "      <td>IBARRA GUTIERREZ</td>\n",
       "      <td>CALLE 5 DE MAYO, NÚMERO 114, SANTIAGO, 20667, ...</td>\n",
       "      <td>ESCUELA PRIMARIA 16 DE SEPTIEMBRE</td>\n",
       "      <td>1</td>\n",
       "      <td>1</td>\n",
       "      <td>430</td>\n",
       "    </tr>\n",
       "    <tr>\n",
       "      <th>1</th>\n",
       "      <td>C1</td>\n",
       "      <td>IBARRA GUTIERREZ</td>\n",
       "      <td>ZUBIA MOLINA</td>\n",
       "      <td>CALLE 5 DE MAYO, NÚMERO 114, SANTIAGO, 20667, ...</td>\n",
       "      <td>ESCUELA PRIMARIA 16 DE SEPTIEMBRE</td>\n",
       "      <td>1</td>\n",
       "      <td>1</td>\n",
       "      <td>430</td>\n",
       "    </tr>\n",
       "    <tr>\n",
       "      <th>2</th>\n",
       "      <td>B</td>\n",
       "      <td>ACEVEDO ESPARZA</td>\n",
       "      <td>IBARRA GUTIERREZ</td>\n",
       "      <td>CALLE 5 DE MAYO, NÚMERO 114, SANTIAGO, 20667, ...</td>\n",
       "      <td>ESCUELA PRIMARIA 16 DE SEPTIEMBRE</td>\n",
       "      <td>1</td>\n",
       "      <td>1</td>\n",
       "      <td>448</td>\n",
       "    </tr>\n",
       "    <tr>\n",
       "      <th>3</th>\n",
       "      <td>C1</td>\n",
       "      <td>IBARRA GUTIERREZ</td>\n",
       "      <td>ZUBIA MOLINA</td>\n",
       "      <td>CALLE 5 DE MAYO, NÚMERO 114, SANTIAGO, 20667, ...</td>\n",
       "      <td>ESCUELA PRIMARIA 16 DE SEPTIEMBRE</td>\n",
       "      <td>1</td>\n",
       "      <td>1</td>\n",
       "      <td>448</td>\n",
       "    </tr>\n",
       "    <tr>\n",
       "      <th>4</th>\n",
       "      <td>B</td>\n",
       "      <td>ACEVEDO ESPARZA</td>\n",
       "      <td>IBARRA GUTIERREZ</td>\n",
       "      <td>CALLE 5 DE MAYO, NÚMERO 114, SANTIAGO, 20667, ...</td>\n",
       "      <td>ESCUELA PRIMARIA 16 DE SEPTIEMBRE</td>\n",
       "      <td>1</td>\n",
       "      <td>1</td>\n",
       "      <td>451</td>\n",
       "    </tr>\n",
       "    <tr>\n",
       "      <th>5</th>\n",
       "      <td>C1</td>\n",
       "      <td>IBARRA GUTIERREZ</td>\n",
       "      <td>ZUBIA MOLINA</td>\n",
       "      <td>CALLE 5 DE MAYO, NÚMERO 114, SANTIAGO, 20667, ...</td>\n",
       "      <td>ESCUELA PRIMARIA 16 DE SEPTIEMBRE</td>\n",
       "      <td>1</td>\n",
       "      <td>1</td>\n",
       "      <td>451</td>\n",
       "    </tr>\n",
       "    <tr>\n",
       "      <th>6</th>\n",
       "      <td>B</td>\n",
       "      <td>ACEVEDO ESPARZA</td>\n",
       "      <td>IBARRA GUTIERREZ</td>\n",
       "      <td>CALLE 5 DE MAYO, NÚMERO 114, SANTIAGO, 20667, ...</td>\n",
       "      <td>ESCUELA PRIMARIA 16 DE SEPTIEMBRE</td>\n",
       "      <td>1</td>\n",
       "      <td>1</td>\n",
       "      <td>488</td>\n",
       "    </tr>\n",
       "    <tr>\n",
       "      <th>7</th>\n",
       "      <td>C1</td>\n",
       "      <td>IBARRA GUTIERREZ</td>\n",
       "      <td>ZUBIA MOLINA</td>\n",
       "      <td>CALLE 5 DE MAYO, NÚMERO 114, SANTIAGO, 20667, ...</td>\n",
       "      <td>ESCUELA PRIMARIA 16 DE SEPTIEMBRE</td>\n",
       "      <td>1</td>\n",
       "      <td>1</td>\n",
       "      <td>488</td>\n",
       "    </tr>\n",
       "  </tbody>\n",
       "</table>\n",
       "</div>"
      ],
      "text/plain": [
       "  casilla           inicial             final  \\\n",
       "0       B   ACEVEDO ESPARZA  IBARRA GUTIERREZ   \n",
       "1      C1  IBARRA GUTIERREZ      ZUBIA MOLINA   \n",
       "2       B   ACEVEDO ESPARZA  IBARRA GUTIERREZ   \n",
       "3      C1  IBARRA GUTIERREZ      ZUBIA MOLINA   \n",
       "4       B   ACEVEDO ESPARZA  IBARRA GUTIERREZ   \n",
       "5      C1  IBARRA GUTIERREZ      ZUBIA MOLINA   \n",
       "6       B   ACEVEDO ESPARZA  IBARRA GUTIERREZ   \n",
       "7      C1  IBARRA GUTIERREZ      ZUBIA MOLINA   \n",
       "\n",
       "                                           domicilio  \\\n",
       "0  CALLE 5 DE MAYO, NÚMERO 114, SANTIAGO, 20667, ...   \n",
       "1  CALLE 5 DE MAYO, NÚMERO 114, SANTIAGO, 20667, ...   \n",
       "2  CALLE 5 DE MAYO, NÚMERO 114, SANTIAGO, 20667, ...   \n",
       "3  CALLE 5 DE MAYO, NÚMERO 114, SANTIAGO, 20667, ...   \n",
       "4  CALLE 5 DE MAYO, NÚMERO 114, SANTIAGO, 20667, ...   \n",
       "5  CALLE 5 DE MAYO, NÚMERO 114, SANTIAGO, 20667, ...   \n",
       "6  CALLE 5 DE MAYO, NÚMERO 114, SANTIAGO, 20667, ...   \n",
       "7  CALLE 5 DE MAYO, NÚMERO 114, SANTIAGO, 20667, ...   \n",
       "\n",
       "                           ubicacion  entidad  distitoSede  seccion  \n",
       "0  ESCUELA PRIMARIA 16 DE SEPTIEMBRE        1            1      430  \n",
       "1  ESCUELA PRIMARIA 16 DE SEPTIEMBRE        1            1      430  \n",
       "2  ESCUELA PRIMARIA 16 DE SEPTIEMBRE        1            1      448  \n",
       "3  ESCUELA PRIMARIA 16 DE SEPTIEMBRE        1            1      448  \n",
       "4  ESCUELA PRIMARIA 16 DE SEPTIEMBRE        1            1      451  \n",
       "5  ESCUELA PRIMARIA 16 DE SEPTIEMBRE        1            1      451  \n",
       "6  ESCUELA PRIMARIA 16 DE SEPTIEMBRE        1            1      488  \n",
       "7  ESCUELA PRIMARIA 16 DE SEPTIEMBRE        1            1      488  "
      ]
     },
     "execution_count": 68,
     "metadata": {},
     "output_type": "execute_result"
    }
   ],
   "source": [
    "complete_df"
   ]
  },
  {
   "cell_type": "code",
   "execution_count": 35,
   "metadata": {},
   "outputs": [
    {
     "data": {
      "text/plain": [
       "['0489', '0499', '0500', '0501', '0504', '0505', '0506', '0507']"
      ]
     },
     "execution_count": 35,
     "metadata": {},
     "output_type": "execute_result"
    }
   ],
   "source": [
    "content[0]['secciones']"
   ]
  },
  {
   "cell_type": "code",
   "execution_count": 37,
   "metadata": {},
   "outputs": [
    {
     "data": {
      "text/plain": [
       "['0489', '0499', '0500', '0501', '0504', '0505', '0506', '0507']"
      ]
     },
     "execution_count": 37,
     "metadata": {},
     "output_type": "execute_result"
    }
   ],
   "source": [
    "secciones =  content[0]['secciones']\n",
    "secciones"
   ]
  }
 ],
 "metadata": {
  "interpreter": {
   "hash": "13ac3df32eef65f8ace8987a5332ff96461b2c59481d9f43d58c30a2f55284c7"
  },
  "kernelspec": {
   "display_name": "Python 3.9.2 64-bit",
   "language": "python",
   "name": "python3"
  },
  "language_info": {
   "codemirror_mode": {
    "name": "ipython",
    "version": 3
   },
   "file_extension": ".py",
   "mimetype": "text/x-python",
   "name": "python",
   "nbconvert_exporter": "python",
   "pygments_lexer": "ipython3",
   "version": "3.9.2"
  },
  "orig_nbformat": 4
 },
 "nbformat": 4,
 "nbformat_minor": 2
}
