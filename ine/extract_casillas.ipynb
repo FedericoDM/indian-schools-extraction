{
 "cells": [
  {
   "cell_type": "markdown",
   "metadata": {},
   "source": [
    "# Webscrapeo : Ubica tu casilla"
   ]
  },
  {
   "cell_type": "markdown",
   "metadata": {},
   "source": [
    "### Paquetes"
   ]
  },
  {
   "cell_type": "code",
   "execution_count": 1,
   "metadata": {},
   "outputs": [],
   "source": [
    "import requests\n",
    "import numpy as np\n",
    "import pandas as pd"
   ]
  },
  {
   "cell_type": "markdown",
   "metadata": {},
   "source": [
    "### Pipeline"
   ]
  },
  {
   "cell_type": "code",
   "execution_count": 5,
   "metadata": {},
   "outputs": [],
   "source": [
    "API = \"https://us-central1-ine-ubica-tu-casilla.cloudfunctions.net/utc-api/search/rasgo-with-cmr-uts?e=1&s=1\"\n",
    "headers = {\"authority\": \"us-central1-ine-ubica-tu-casilla.cloudfunctions.net\",\n",
    "            \"method\": \"GET\",\n",
    "            \"scheme\": \"https\",\n",
    "            \"accept\": \"application/json, text/plain, */*\",\n",
    "            \"accept-encoding\": \"gzip, deflate, br\",\n",
    "            \"origin\": \"https://ubicatucasilla.ine.mx\",\n",
    "            \"referer\": \"https://ubicatucasilla.ine.mx/\",\n",
    "            \"user-agent\": \"Mozilla/5.0 (Windows NT 10.0; Win64; x64) AppleWebKit/537.36 (KHTML, like Gecko) Chrome/100.0.4896.75 Safari/537.36\",\n",
    "            \"x-utc-service-id\": \"ubicatucasilla\",\n",
    "            \"x-utc-version-id\": \"2022\"}"
   ]
  },
  {
   "cell_type": "code",
   "execution_count": 16,
   "metadata": {},
   "outputs": [
    {
     "data": {
      "text/plain": [
       "{'code': '03',\n",
       " 'seccionSede': 1,\n",
       " 'entidadSede': 1,\n",
       " 'distritoSede': 3,\n",
       " 'distrito_localSede': 6,\n",
       " 'utSede': 64,\n",
       " 'secciones': ['0001'],\n",
       " 'apellidos': [{'casilla': 'B',\n",
       "   'inicial': 'ABOYTES DOÑAS',\n",
       "   'final': 'LLAMAS DELGADO'},\n",
       "  {'casilla': 'C1', 'inicial': 'LLAMAS ESPERON', 'final': 'ZUÑIGA GONZALEZ'}],\n",
       " 'reference': {'dce': {'geom': {'coordinates': [-102.321935418, 21.929536847],\n",
       "    'type': 'Point'},\n",
       "   'ref': {'distrito_federal': 3,\n",
       "    'distrito_local': 6,\n",
       "    'entidad': 1,\n",
       "    'seccion': 1},\n",
       "   'version': '2021'}},\n",
       " 'data': {'ut': 64,\n",
       "  'active': True,\n",
       "  'domicilio': 'CALLE HUIZACHE, NÚMERO 108, FRACCIONAMIENTO EL CAMPESTRE SEGUNDA SECCIÓN, 20100, AGUASCALIENTES, AGUASCALIENTES',\n",
       "  'referencia': 'ENTRE CALLE FRONTERA Y CALLE MEZQUITE',\n",
       "  'ubicacion': 'DOMICILIO PARTICULAR',\n",
       "  'dce': {'coordinates': [-102.321935418, 21.929536847], 'type': 'Point'},\n",
       "  'geom': {'coordinates': [-102.321935418, 21.929536847], 'type': 'Point'}}}"
      ]
     },
     "execution_count": 16,
     "metadata": {},
     "output_type": "execute_result"
    }
   ],
   "source": [
    "r = requests.get(API, headers=headers)\n",
    "content = r.json()['data'][0]['items']\n",
    "content[0]"
   ]
  },
  {
   "cell_type": "code",
   "execution_count": 27,
   "metadata": {},
   "outputs": [
    {
     "data": {
      "text/html": [
       "<div>\n",
       "<style scoped>\n",
       "    .dataframe tbody tr th:only-of-type {\n",
       "        vertical-align: middle;\n",
       "    }\n",
       "\n",
       "    .dataframe tbody tr th {\n",
       "        vertical-align: top;\n",
       "    }\n",
       "\n",
       "    .dataframe thead th {\n",
       "        text-align: right;\n",
       "    }\n",
       "</style>\n",
       "<table border=\"1\" class=\"dataframe\">\n",
       "  <thead>\n",
       "    <tr style=\"text-align: right;\">\n",
       "      <th></th>\n",
       "      <th>casilla</th>\n",
       "      <th>inicial</th>\n",
       "      <th>final</th>\n",
       "      <th>domicilio</th>\n",
       "      <th>ubicacion</th>\n",
       "      <th>entidad</th>\n",
       "      <th>seccion</th>\n",
       "    </tr>\n",
       "  </thead>\n",
       "  <tbody>\n",
       "    <tr>\n",
       "      <th>0</th>\n",
       "      <td>B</td>\n",
       "      <td>ABOYTES DOÑAS</td>\n",
       "      <td>LLAMAS DELGADO</td>\n",
       "      <td>CALLE HUIZACHE, NÚMERO 108, FRACCIONAMIENTO EL...</td>\n",
       "      <td>DOMICILIO PARTICULAR</td>\n",
       "      <td>1</td>\n",
       "      <td>1</td>\n",
       "    </tr>\n",
       "    <tr>\n",
       "      <th>1</th>\n",
       "      <td>C1</td>\n",
       "      <td>LLAMAS ESPERON</td>\n",
       "      <td>ZUÑIGA GONZALEZ</td>\n",
       "      <td>CALLE HUIZACHE, NÚMERO 108, FRACCIONAMIENTO EL...</td>\n",
       "      <td>DOMICILIO PARTICULAR</td>\n",
       "      <td>1</td>\n",
       "      <td>1</td>\n",
       "    </tr>\n",
       "  </tbody>\n",
       "</table>\n",
       "</div>"
      ],
      "text/plain": [
       "  casilla         inicial            final  \\\n",
       "0       B   ABOYTES DOÑAS   LLAMAS DELGADO   \n",
       "1      C1  LLAMAS ESPERON  ZUÑIGA GONZALEZ   \n",
       "\n",
       "                                           domicilio             ubicacion  \\\n",
       "0  CALLE HUIZACHE, NÚMERO 108, FRACCIONAMIENTO EL...  DOMICILIO PARTICULAR   \n",
       "1  CALLE HUIZACHE, NÚMERO 108, FRACCIONAMIENTO EL...  DOMICILIO PARTICULAR   \n",
       "\n",
       "   entidad  seccion  \n",
       "0        1        1  \n",
       "1        1        1  "
      ]
     },
     "execution_count": 27,
     "metadata": {},
     "output_type": "execute_result"
    }
   ],
   "source": [
    "raw_df = pd.DataFrame(content[0]['apellidos'])\n",
    "raw_df['domicilio'] = content[0]['data']['domicilio']\n",
    "raw_df['domicilio'] = content[0]['data']['domicilio']\n",
    "\n",
    "raw_df['ubicacion'] = content[0]['data']['ubicacion']\n",
    "\n",
    "raw_df['entidad'] = content[0]['entidadSede']\n",
    "raw_df['seccion'] = content[0]['seccionSede']\n",
    "\n",
    "\n",
    "raw_df"
   ]
  }
 ],
 "metadata": {
  "interpreter": {
   "hash": "13ac3df32eef65f8ace8987a5332ff96461b2c59481d9f43d58c30a2f55284c7"
  },
  "kernelspec": {
   "display_name": "Python 3.9.2 64-bit",
   "language": "python",
   "name": "python3"
  },
  "language_info": {
   "codemirror_mode": {
    "name": "ipython",
    "version": 3
   },
   "file_extension": ".py",
   "mimetype": "text/x-python",
   "name": "python",
   "nbconvert_exporter": "python",
   "pygments_lexer": "ipython3",
   "version": "3.9.2"
  },
  "orig_nbformat": 4
 },
 "nbformat": 4,
 "nbformat_minor": 2
}
