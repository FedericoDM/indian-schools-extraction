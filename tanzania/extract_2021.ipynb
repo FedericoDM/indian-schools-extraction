{
 "cells": [
  {
   "cell_type": "markdown",
   "metadata": {},
   "source": [
    "# Tanzania - Webscraping 2021"
   ]
  },
  {
   "cell_type": "markdown",
   "metadata": {},
   "source": [
    "### Paquetes (imports)"
   ]
  },
  {
   "cell_type": "code",
   "execution_count": 1,
   "metadata": {},
   "outputs": [],
   "source": [
    "import requests\n",
    "import numpy as np\n",
    "import pandas as pd\n",
    "from bs4 import BeautifulSoup"
   ]
  },
  {
   "cell_type": "markdown",
   "metadata": {},
   "source": [
    "#### Functions"
   ]
  },
  {
   "cell_type": "code",
   "execution_count": 2,
   "metadata": {},
   "outputs": [],
   "source": [
    "base_url = 'https://matokeo.necta.go.tz/psle/psle.htm'\n",
    "headers = {\"user-agent\":\"Mozilla/5.0 (Windows NT 10.0; Win64; x64) AppleWebKit/537.36 (KHTML, like Gecko) Chrome/100.0.4896.75 Safari/537.36\"}"
   ]
  },
  {
   "cell_type": "code",
   "execution_count": 3,
   "metadata": {},
   "outputs": [],
   "source": [
    "def get_regions_dict(base_url):\n",
    "    \"\"\"\n",
    "    Get the regions dictionary from the base url\n",
    "\n",
    "    Parameters\n",
    "    ----------\n",
    "    base_url : str\n",
    "    \"\"\"\n",
    "\n",
    "    # Connect to the base url\n",
    "    r = requests.get(base_url, headers=headers)\n",
    "    soup = BeautifulSoup(r.content, 'html.parser')\n",
    "\n",
    "    # Parse html and get regions\n",
    "    a_objects = soup.find_all('a')\n",
    "    unwanted_chars = ['\\r', '\\n']\n",
    "    regions_dict = {}\n",
    "    \n",
    "    for a_object in a_objects:\n",
    "        href = a_object['href']\n",
    "        region_name = a_object.text\n",
    "\n",
    "        # Remove unwanted characters\n",
    "        for unwanted_char in unwanted_chars:\n",
    "            region_name = region_name.replace(unwanted_char, '')\n",
    "\n",
    "        \n",
    "        region_url = base_url.replace(\"psle.htm\", href)\n",
    "        regions_dict[region_name] = region_url\n",
    "\n",
    "    return regions_dict"
   ]
  },
  {
   "cell_type": "code",
   "execution_count": 4,
   "metadata": {},
   "outputs": [],
   "source": [
    "def get_districts_dict(region_url):\n",
    "    \"\"\"\n",
    "    Get the districts dictionary from the regions dictionary\n",
    "\n",
    "    Parameters\n",
    "    ----------\n",
    "    regions_dict : dict\n",
    "\n",
    "    Returns\n",
    "    -------\n",
    "\n",
    "    districts_dict : dict\n",
    "    \"\"\"\n",
    "    r = requests.get(region_url)\n",
    "    soup = BeautifulSoup(r.content, 'html.parser')\n",
    "    a_objects = soup.find_all('a')\n",
    "    \n",
    "    unwanted_chars = ['\\r', '\\n']\n",
    "    distr_dict = {}\n",
    "\n",
    "    # Get district dictionary from the region url\n",
    "    for a_object in a_objects:\n",
    "        href = a_object['href']\n",
    "        distr_name = a_object.text\n",
    "\n",
    "        for unwanted_char in unwanted_chars:\n",
    "            distr_name = distr_name.replace(unwanted_char, '')\n",
    "\n",
    "        distr_url = base_url.replace(\"psle.htm\", f\"results/{href}\")\n",
    "        distr_dict[distr_name] = distr_url\n",
    "\n",
    "    return distr_dict"
   ]
  },
  {
   "cell_type": "code",
   "execution_count": 13,
   "metadata": {},
   "outputs": [],
   "source": [
    "def get_schools_dict(distr_url):\n",
    "    \"\"\"\n",
    "    Get the schools dictionary from the districts dictionary\n",
    "    \"\"\"\n",
    "    \n",
    "    r = requests.get(distr_url)\n",
    "    soup = BeautifulSoup(r.content, 'html.parser')\n",
    "    a_objects = soup.find_all('a')\n",
    "\n",
    "    unwanted_chars = ['\\r', '\\n']\n",
    "    schools_dict = {}\n",
    "\n",
    "    # Get district dictionary from the region url\n",
    "    for a_object in a_objects:\n",
    "        href = a_object['href']\n",
    "        school_name = a_object.text\n",
    "\n",
    "        for unwanted_char in unwanted_chars:\n",
    "            school_name = school_name.replace(unwanted_char, '')\n",
    "\n",
    "        school_url = base_url.replace(\"psle.htm\", f\"results/{href}\")\n",
    "        schools_dict[school_name] = school_url\n",
    "\n",
    "    return schools_dict"
   ]
  },
  {
   "cell_type": "markdown",
   "metadata": {},
   "source": [
    "### Pipeline"
   ]
  },
  {
   "cell_type": "code",
   "execution_count": 16,
   "metadata": {},
   "outputs": [],
   "source": [
    "regions_dict = get_regions_dict(base_url)\n",
    "distr_dict = get_districts_dict(regions_dict['ARUSHA'])\n",
    "schools_dict = get_schools_dict(distr_dict['NGORONGORO'])"
   ]
  },
  {
   "cell_type": "code",
   "execution_count": 19,
   "metadata": {},
   "outputs": [
    {
     "data": {
      "text/plain": [
       "{'ALAILELAI PRIMARY SCHOOL - PS0107001': 'https://matokeo.necta.go.tz/psle/results/shl_ps0107001.htm',\n",
       " 'ARASH PRIMARY SCHOOL - PS0107002': 'https://matokeo.necta.go.tz/psle/results/shl_ps0107002.htm',\n",
       " 'BRIGHT PRIMARY SCHOOL - PS0107066': 'https://matokeo.necta.go.tz/psle/results/shl_ps0107066.htm',\n",
       " 'BULATI PRIMARY SCHOOL - PS0107003': 'https://matokeo.necta.go.tz/psle/results/shl_ps0107003.htm',\n",
       " 'BUTEMINE PRIMARY SCHOOL - PS0107080': 'https://matokeo.necta.go.tz/psle/results/shl_ps0107080.htm',\n",
       " 'DIGODIGO GCCT PRIMARY SCHOOL - PS0107079': 'https://matokeo.necta.go.tz/psle/results/shl_ps0107079.htm',\n",
       " 'DIGODIGO PRIMARY SCHOOL - PS0107004': 'https://matokeo.necta.go.tz/psle/results/shl_ps0107004.htm',\n",
       " 'EMBAASI PRIMARY SCHOOL - PS0107078': 'https://matokeo.necta.go.tz/psle/results/shl_ps0107078.htm',\n",
       " 'ENDULEN PRIMARY SCHOOL - PS0107005': 'https://matokeo.necta.go.tz/psle/results/shl_ps0107005.htm',\n",
       " 'ENGARESERO PRIMARY SCHOOL - PS0107030': 'https://matokeo.necta.go.tz/psle/results/shl_ps0107030.htm',\n",
       " 'ENGUSEROSAMBU PRIMARY SCHOOL - PS0107006': 'https://matokeo.necta.go.tz/psle/results/shl_ps0107006.htm',\n",
       " 'ESERE PRIMARY SCHOOL - PS0107007': 'https://matokeo.necta.go.tz/psle/results/shl_ps0107007.htm',\n",
       " 'IRKEEPUSI PRIMARY SCHOOL - PS0107008': 'https://matokeo.necta.go.tz/psle/results/shl_ps0107008.htm',\n",
       " 'JEMA PRIMARY SCHOOL - PS0107020': 'https://matokeo.necta.go.tz/psle/results/shl_ps0107020.htm',\n",
       " 'KAKESIO PRIMARY SCHOOL - PS0107009': 'https://matokeo.necta.go.tz/psle/results/shl_ps0107009.htm',\n",
       " 'KAPENJIRO PRIMARY SCHOOL - PS0107034': 'https://matokeo.necta.go.tz/psle/results/shl_ps0107034.htm',\n",
       " 'KIRTALO PRIMARY SCHOOL - PS0107050': 'https://matokeo.necta.go.tz/psle/results/shl_ps0107050.htm',\n",
       " 'KISANGIRO PRIMARY SCHOOL - PS0107010': 'https://matokeo.necta.go.tz/psle/results/shl_ps0107010.htm',\n",
       " 'LEMISHIRI PRIMARY SCHOOL - PS0107062': 'https://matokeo.necta.go.tz/psle/results/shl_ps0107062.htm',\n",
       " 'LOLIONDO GCCT PRIMARY SCHOOL - PS0107049': 'https://matokeo.necta.go.tz/psle/results/shl_ps0107049.htm',\n",
       " 'LOLIONDO PRIMARY SCHOOL - PS0107011': 'https://matokeo.necta.go.tz/psle/results/shl_ps0107011.htm',\n",
       " 'LORIEN PRIMARY SCHOOL - PS0107027': 'https://matokeo.necta.go.tz/psle/results/shl_ps0107027.htm',\n",
       " 'LOSOITO PRIMARY SCHOOL - PS0107029': 'https://matokeo.necta.go.tz/psle/results/shl_ps0107029.htm',\n",
       " 'LUMO PRIMARY SCHOOL - PS0107058': 'https://matokeo.necta.go.tz/psle/results/shl_ps0107058.htm',\n",
       " 'MAALON PRIMARY SCHOOL - PS0107028': 'https://matokeo.necta.go.tz/psle/results/shl_ps0107028.htm',\n",
       " 'MAGERI PRIMARY SCHOOL - PS0107061': 'https://matokeo.necta.go.tz/psle/results/shl_ps0107061.htm',\n",
       " 'MAIROWA PRIMARY SCHOOL - PS0107059': 'https://matokeo.necta.go.tz/psle/results/shl_ps0107059.htm',\n",
       " 'MAKAO MAPYA PRIMARY SCHOOL - PS0107012': 'https://matokeo.necta.go.tz/psle/results/shl_ps0107012.htm',\n",
       " 'MALAMBO PRIMARY SCHOOL - PS0107013': 'https://matokeo.necta.go.tz/psle/results/shl_ps0107013.htm',\n",
       " 'MAMA SARA PRIMARY SCHOOL - PS0107063': 'https://matokeo.necta.go.tz/psle/results/shl_ps0107063.htm',\n",
       " 'MARIE CORRENSON PRIMARY SCHOOL - PS0107067': 'https://matokeo.necta.go.tz/psle/results/shl_ps0107067.htm',\n",
       " 'MASUSU PRIMARY SCHOOL - PS0107051': 'https://matokeo.necta.go.tz/psle/results/shl_ps0107051.htm',\n",
       " 'MDITO PRIMARY SCHOOL - PS0107064': 'https://matokeo.necta.go.tz/psle/results/shl_ps0107064.htm',\n",
       " 'MGONGO PRIMARY SCHOOL - PS0107037': 'https://matokeo.necta.go.tz/psle/results/shl_ps0107037.htm',\n",
       " 'MISIGIYO PRIMARY SCHOOL - PS0107040': 'https://matokeo.necta.go.tz/psle/results/shl_ps0107040.htm',\n",
       " 'MOKILAL PRIMARY SCHOOL - PS0107014': 'https://matokeo.necta.go.tz/psle/results/shl_ps0107014.htm',\n",
       " 'MONDOROS PRIMARY SCHOOL - PS0107052': 'https://matokeo.necta.go.tz/psle/results/shl_ps0107052.htm',\n",
       " 'MONIC PRIMARY SCHOOL - PS0107038': 'https://matokeo.necta.go.tz/psle/results/shl_ps0107038.htm',\n",
       " 'NAAN PRIMARY SCHOOL - PS0107053': 'https://matokeo.necta.go.tz/psle/results/shl_ps0107053.htm',\n",
       " 'NAINOKANOKA PRIMARY SCHOOL - PS0107015': 'https://matokeo.necta.go.tz/psle/results/shl_ps0107015.htm',\n",
       " 'NAIYOBI PRIMARY SCHOOL - PS0107016': 'https://matokeo.necta.go.tz/psle/results/shl_ps0107016.htm',\n",
       " 'NASERIAN PRIMARY SCHOOL - PS0107056': 'https://matokeo.necta.go.tz/psle/results/shl_ps0107056.htm',\n",
       " 'NDIAN PRIMARY SCHOOL - PS0107044': 'https://matokeo.necta.go.tz/psle/results/shl_ps0107044.htm',\n",
       " \"NG'ARWA PRIMARY SCHOOL - PS0107035\": 'https://matokeo.necta.go.tz/psle/results/shl_ps0107035.htm',\n",
       " 'NGOILE PRIMARY SCHOOL - PS0107046': 'https://matokeo.necta.go.tz/psle/results/shl_ps0107046.htm',\n",
       " 'NJOROI PRIMARY SCHOOL - PS0107045': 'https://matokeo.necta.go.tz/psle/results/shl_ps0107045.htm',\n",
       " 'OLALAA PRIMARY SCHOOL - PS0107054': 'https://matokeo.necta.go.tz/psle/results/shl_ps0107054.htm',\n",
       " 'OLBALBAL PRIMARY SCHOOL - PS0107017': 'https://matokeo.necta.go.tz/psle/results/shl_ps0107017.htm',\n",
       " 'OLCHANIMELOK PRIMARY SCHOOL - PS0107055': 'https://matokeo.necta.go.tz/psle/results/shl_ps0107055.htm',\n",
       " 'OLDONYOSAMBU PRIMARY SCHOOL - PS0107018': 'https://matokeo.necta.go.tz/psle/results/shl_ps0107018.htm',\n",
       " 'OLDONYOWAS PRIMARY SCHOOL - PS0107043': 'https://matokeo.necta.go.tz/psle/results/shl_ps0107043.htm',\n",
       " 'OLOIPIRI PRIMARY SCHOOL - PS0107019': 'https://matokeo.necta.go.tz/psle/results/shl_ps0107019.htm',\n",
       " 'OLOIROBI PRIMARY SCHOOL - PS0107048': 'https://matokeo.necta.go.tz/psle/results/shl_ps0107048.htm',\n",
       " 'OLOLOSOKWAN PRIMARY SCHOOL - PS0107021': 'https://matokeo.necta.go.tz/psle/results/shl_ps0107021.htm',\n",
       " 'OLPIRO PRIMARY SCHOOL - PS0107036': 'https://matokeo.necta.go.tz/psle/results/shl_ps0107036.htm',\n",
       " 'ORKIU PRIMARY SCHOOL - PS0107060': 'https://matokeo.necta.go.tz/psle/results/shl_ps0107060.htm',\n",
       " 'OSINONI PRIMARY SCHOOL - PS0107031': 'https://matokeo.necta.go.tz/psle/results/shl_ps0107031.htm',\n",
       " 'OSOTWA PRIMARY SCHOOL - PS0107073': 'https://matokeo.necta.go.tz/psle/results/shl_ps0107073.htm',\n",
       " 'PINYINYI PRIMARY SCHOOL - PS0107039': 'https://matokeo.necta.go.tz/psle/results/shl_ps0107039.htm',\n",
       " 'PIYAYA PRIMARY SCHOOL - PS0107022': 'https://matokeo.necta.go.tz/psle/results/shl_ps0107022.htm',\n",
       " 'RERA PRIMARY SCHOOL - PS0107047': 'https://matokeo.necta.go.tz/psle/results/shl_ps0107047.htm',\n",
       " 'SAKALA PRIMARY SCHOOL - PS0107023': 'https://matokeo.necta.go.tz/psle/results/shl_ps0107023.htm',\n",
       " 'SALE PRIMARY SCHOOL - PS0107024': 'https://matokeo.necta.go.tz/psle/results/shl_ps0107024.htm',\n",
       " 'SAMUNGE PRIMARY SCHOOL - PS0107025': 'https://matokeo.necta.go.tz/psle/results/shl_ps0107025.htm',\n",
       " 'SENDUI PRIMARY SCHOOL - PS0107041': 'https://matokeo.necta.go.tz/psle/results/shl_ps0107041.htm',\n",
       " 'SOITSAMBU PRIMARY SCHOOL - PS0107026': 'https://matokeo.necta.go.tz/psle/results/shl_ps0107026.htm',\n",
       " 'SUKENYA PRIMARY SCHOOL - PS0107042': 'https://matokeo.necta.go.tz/psle/results/shl_ps0107042.htm',\n",
       " 'TINAGA PRIMARY SCHOOL - PS0107057': 'https://matokeo.necta.go.tz/psle/results/shl_ps0107057.htm',\n",
       " 'TUMAINI PRIMARY SCHOOL - PS0107065': 'https://matokeo.necta.go.tz/psle/results/shl_ps0107065.htm',\n",
       " 'WASSO PRIMARY SCHOOL - PS0107032': 'https://matokeo.necta.go.tz/psle/results/shl_ps0107032.htm',\n",
       " 'YASIMDITO PRIMARY SCHOOL - PS0107033': 'https://matokeo.necta.go.tz/psle/results/shl_ps0107033.htm'}"
      ]
     },
     "execution_count": 19,
     "metadata": {},
     "output_type": "execute_result"
    }
   ],
   "source": [
    "schools_dict"
   ]
  }
 ],
 "metadata": {
  "interpreter": {
   "hash": "13ac3df32eef65f8ace8987a5332ff96461b2c59481d9f43d58c30a2f55284c7"
  },
  "kernelspec": {
   "display_name": "Python 3.9.2 64-bit",
   "language": "python",
   "name": "python3"
  },
  "language_info": {
   "codemirror_mode": {
    "name": "ipython",
    "version": 3
   },
   "file_extension": ".py",
   "mimetype": "text/x-python",
   "name": "python",
   "nbconvert_exporter": "python",
   "pygments_lexer": "ipython3",
   "version": "3.9.2"
  },
  "orig_nbformat": 4
 },
 "nbformat": 4,
 "nbformat_minor": 2
}
