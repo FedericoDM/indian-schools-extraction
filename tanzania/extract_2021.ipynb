{
 "cells": [
  {
   "cell_type": "markdown",
   "metadata": {},
   "source": [
    "# Tanzania - Webscraping 2021"
   ]
  },
  {
   "cell_type": "markdown",
   "metadata": {},
   "source": [
    "### Paquetes (imports)"
   ]
  },
  {
   "cell_type": "code",
   "execution_count": 4,
   "metadata": {},
   "outputs": [],
   "source": [
    "import requests\n",
    "import numpy as np\n",
    "import pandas as pd\n",
    "from bs4 import BeautifulSoup"
   ]
  },
  {
   "cell_type": "markdown",
   "metadata": {},
   "source": [
    "#### Functions"
   ]
  },
  {
   "cell_type": "code",
   "execution_count": 66,
   "metadata": {},
   "outputs": [],
   "source": [
    "base_url = 'https://matokeo.necta.go.tz/psle/psle.htm'\n",
    "headers = {\"user-agent\":\"Mozilla/5.0 (Windows NT 10.0; Win64; x64) AppleWebKit/537.36 (KHTML, like Gecko) Chrome/100.0.4896.75 Safari/537.36\"}"
   ]
  },
  {
   "cell_type": "code",
   "execution_count": 67,
   "metadata": {},
   "outputs": [],
   "source": [
    "def get_regions_dict(base_url):\n",
    "    \"\"\"\n",
    "    Get the regions dictionary from the base url\n",
    "\n",
    "    Parameters\n",
    "    ----------\n",
    "    base_url : str\n",
    "    \"\"\"\n",
    "\n",
    "    # Connect to the base url\n",
    "    r = requests.get(base_url, headers=headers)\n",
    "    soup = BeautifulSoup(r.content, 'html.parser')\n",
    "\n",
    "    # Parse html and get regions\n",
    "    a_objects = soup.find_all('a')\n",
    "    unwanted_chars = ['\\r', '\\n']\n",
    "    regions_dict = {}\n",
    "    \n",
    "    for a_object in a_objects:\n",
    "        href = a_object['href']\n",
    "        region_name = a_object.text\n",
    "\n",
    "        # Remove unwanted characters\n",
    "        for unwanted_char in unwanted_chars:\n",
    "            region_name = region_name.replace(unwanted_char, '')\n",
    "\n",
    "        \n",
    "        region_url = base_url.replace(\"psle.htm\", href)\n",
    "        regions_dict[region_name] = region_url\n",
    "\n",
    "    return regions_dict"
   ]
  },
  {
   "cell_type": "code",
   "execution_count": 95,
   "metadata": {},
   "outputs": [],
   "source": [
    "def get_districts_dict(region_url):\n",
    "    \"\"\"\n",
    "    Get the districts dictionary from the regions dictionary\n",
    "\n",
    "    Parameters\n",
    "    ----------\n",
    "    regions_dict : dict\n",
    "\n",
    "    Returns\n",
    "    -------\n",
    "\n",
    "    districts_dict : dict\n",
    "    \"\"\"\n",
    "    r = requests.get(region_url)\n",
    "    soup = BeautifulSoup(r.content, 'html.parser')\n",
    "    a_objects = soup.find_all('a')\n",
    "    \n",
    "    unwanted_chars = ['\\r', '\\n']\n",
    "    distr_dict = {}\n",
    "\n",
    "    # Get district dictionary from the region url\n",
    "    for a_object in a_objects:\n",
    "        href = a_object['href']\n",
    "        distr_name = a_object.text\n",
    "\n",
    "        for unwanted_char in unwanted_chars:\n",
    "            distr_name = distr_name.replace(unwanted_char, '')\n",
    "\n",
    "        distr_url = base_url.replace(\"psle.htm\", f\"results/{href}\")\n",
    "        distr_dict[distr_name] = distr_url\n",
    "\n",
    "    return distr_dict"
   ]
  },
  {
   "cell_type": "markdown",
   "metadata": {},
   "source": [
    "### Pipeline"
   ]
  },
  {
   "cell_type": "code",
   "execution_count": 99,
   "metadata": {},
   "outputs": [
    {
     "data": {
      "text/plain": [
       "{'MLELE': 'https://matokeo.necta.go.tz/psle/results/distr_2501.htm',\n",
       " 'MPANDA MC': 'https://matokeo.necta.go.tz/psle/results/distr_2502.htm',\n",
       " 'MPIMBWE': 'https://matokeo.necta.go.tz/psle/results/distr_2505.htm',\n",
       " 'NSIMBO': 'https://matokeo.necta.go.tz/psle/results/distr_2504.htm',\n",
       " 'TANGANYIKA': 'https://matokeo.necta.go.tz/psle/results/distr_2503.htm'}"
      ]
     },
     "execution_count": 99,
     "metadata": {},
     "output_type": "execute_result"
    }
   ],
   "source": [
    "regions_dict = get_regions_dict(base_url)\n",
    "distr_dict = get_districts_dict(regions_dict['KATAVI'])\n",
    "distr_dict"
   ]
  }
 ],
 "metadata": {
  "interpreter": {
   "hash": "13ac3df32eef65f8ace8987a5332ff96461b2c59481d9f43d58c30a2f55284c7"
  },
  "kernelspec": {
   "display_name": "Python 3.9.2 64-bit",
   "language": "python",
   "name": "python3"
  },
  "language_info": {
   "codemirror_mode": {
    "name": "ipython",
    "version": 3
   },
   "file_extension": ".py",
   "mimetype": "text/x-python",
   "name": "python",
   "nbconvert_exporter": "python",
   "pygments_lexer": "ipython3",
   "version": "3.9.2"
  },
  "orig_nbformat": 4
 },
 "nbformat": 4,
 "nbformat_minor": 2
}
