{
 "cells": [
  {
   "cell_type": "markdown",
   "metadata": {},
   "source": [
    "# Webscrapeo de escuelas - INDIA"
   ]
  },
  {
   "cell_type": "code",
   "execution_count": 1,
   "metadata": {},
   "outputs": [],
   "source": [
    "import time\n",
    "import requests\n",
    "import numpy as np\n",
    "import pandas as pd"
   ]
  },
  {
   "cell_type": "markdown",
   "metadata": {},
   "source": [
    "## Funciones"
   ]
  },
  {
   "cell_type": "code",
   "execution_count": 2,
   "metadata": {},
   "outputs": [],
   "source": [
    "def get_school_df(URL, newId, counter):\n",
    "    \"\"\"[Get School DataFrame by calling its API]\n",
    "\n",
    "    Parameters\n",
    "    ----------\n",
    "    URL : [str]\n",
    "        [String with the original URL]\n",
    "    newId : [int]\n",
    "        [Integer belonging to certain school]\n",
    "\n",
    "    Returns\n",
    "    -------\n",
    "    [school_df]\n",
    "        [DataFrame with the school's info]\n",
    "    \"\"\"\n",
    "    \n",
    "    new_API = URL.replace(\"objectIds=20\", f\"objectIds={newId}\")\n",
    "    r = requests.get(new_API)\n",
    "    content = r.json()\n",
    "    school_info = content['features'][0]['attributes']\n",
    "    school_df = pd.DataFrame(school_info, index=[counter])\n",
    "    school_df = school_df[['objectid_1', 'fid_school', 'objectid', 'schcd', 'schname', 'schcat',\n",
    "       'school_cat', 'schtype', 'school_typ', 'schmgt', 'management', 'rururb', 'location', \n",
    "       'pincode', 'dtname', 'udise_stco', 'stname', 'longitude', 'latitude', 'stcode11', 'dtcode11']]\n",
    "    \n",
    "    school_df.rename(columns={\"schcd\": \"school_code\", \"schname\": \"school_name\"}, inplace=True)\n",
    "\n",
    "    return school_df\n"
   ]
  },
  {
   "cell_type": "markdown",
   "metadata": {},
   "source": [
    "## Parámetros"
   ]
  },
  {
   "cell_type": "code",
   "execution_count": 3,
   "metadata": {},
   "outputs": [],
   "source": [
    "URL = \"\"\"https://geoportal.nic.in/nicgis/rest/services/SCHOOLGIS/Schooldata/MapServer/0/query?f=json&returnGeometry=true&spatialRel=esriSpatialRelIntersects&objectIds=20&outFields=*&outSR=102100&quantizationParameters=%7B%22mode%22%3A%22view%22%2C%22originPosition%22%3A%22upperLeft%22%2C%22tolerance%22%3A4.777314267948289%2C%22extent%22%3A%7B%22xmin%22%3A68.5015470000764%2C%22ymin%22%3A6.8114540002900235%2C%22xmax%22%3A97.02722199976724%2C%22ymax%22%3A35.032117999820365%2C%22spatialReference%22%3A%7B%22wkid%22%3A4326%2C%22latestWkid%22%3A4326%7D%7D%7D\"\"\""
   ]
  },
  {
   "cell_type": "code",
   "execution_count": 4,
   "metadata": {},
   "outputs": [],
   "source": [
    "short_URL = \"https://geoportal.nic.in/nicgis/rest/services/SCHOOLGIS/Schooldata/MapServer/0/query?f=json&returnGeometry=true&spatialRel=esriSpatialRelIntersects&objectIds=20\""
   ]
  },
  {
   "cell_type": "markdown",
   "metadata": {},
   "source": [
    "## Pipeline"
   ]
  },
  {
   "cell_type": "code",
   "execution_count": 5,
   "metadata": {},
   "outputs": [],
   "source": [
    "URL_2 = \"\"\"https://geoportal.nic.in/nicgis/rest/services/SCHOOLGIS/Schooldata/MapServer/0/query?f=json&returnGeometry=true&spatialRel=esriSpatialRelIntersects&objectIds=0&outFields=*&outSR=102100&quantizationParameters=%7B%22mode%22%3A%22view%22%2C%22originPosition%22%3A%22upperLeft%22%2C%22tolerance%22%3A4.777314267948289%2C%22extent%22%3A%7B%22xmin%22%3A68.5015470000764%2C%22ymin%22%3A6.8114540002900235%2C%22xmax%22%3A97.02722199976724%2C%22ymax%22%3A35.032117999820365%2C%22spatialReference%22%3A%7B%22wkid%22%3A4326%2C%22latestWkid%22%3A4326%7D%7D%7D\"\"\""
   ]
  },
  {
   "cell_type": "code",
   "execution_count": 6,
   "metadata": {},
   "outputs": [
    {
     "data": {
      "text/plain": [
       "{'displayFieldName': 'vilname',\n",
       " 'transform': {'originPosition': 'upperLeft',\n",
       "  'scale': [4.777314267948289, 4.777314267948289],\n",
       "  'translate': [68.5015470000764, 35.032117999820365]},\n",
       " 'fieldAliases': {'objectid_1': 'objectid_1',\n",
       "  'fid_school': 'fid_school',\n",
       "  'objectid': 'objectid',\n",
       "  'schcd': 'schcd',\n",
       "  'schname': 'School',\n",
       "  'schcat': 'Cat_Code',\n",
       "  'school_cat': 'Category',\n",
       "  'schtype': 'Type Code',\n",
       "  'school_typ': 'School Type',\n",
       "  'schmgt': 'Mngt Code',\n",
       "  'management': 'Management',\n",
       "  'rururb': 'Rural_Urban',\n",
       "  'location': 'Location',\n",
       "  'pincode': 'Pincode',\n",
       "  'dtname': 'District',\n",
       "  'udise_stco': 'udise_stco',\n",
       "  'stname': 'State',\n",
       "  'vilname': 'Village',\n",
       "  'longitude': 'longitude',\n",
       "  'latitude': 'latitude',\n",
       "  'stcode11': 'stcode11',\n",
       "  'dtcode11': 'dtcode11'},\n",
       " 'geometryType': 'esriGeometryPoint',\n",
       " 'spatialReference': {'wkid': 102100, 'latestWkid': 3857},\n",
       " 'fields': [{'name': 'objectid_1',\n",
       "   'type': 'esriFieldTypeOID',\n",
       "   'alias': 'objectid_1'},\n",
       "  {'name': 'fid_school',\n",
       "   'type': 'esriFieldTypeInteger',\n",
       "   'alias': 'fid_school'},\n",
       "  {'name': 'objectid', 'type': 'esriFieldTypeInteger', 'alias': 'objectid'},\n",
       "  {'name': 'schcd',\n",
       "   'type': 'esriFieldTypeString',\n",
       "   'alias': 'schcd',\n",
       "   'length': 11},\n",
       "  {'name': 'schname',\n",
       "   'type': 'esriFieldTypeString',\n",
       "   'alias': 'School',\n",
       "   'length': 150},\n",
       "  {'name': 'schcat', 'type': 'esriFieldTypeInteger', 'alias': 'Cat_Code'},\n",
       "  {'name': 'school_cat',\n",
       "   'type': 'esriFieldTypeString',\n",
       "   'alias': 'Category',\n",
       "   'length': 50},\n",
       "  {'name': 'schtype', 'type': 'esriFieldTypeInteger', 'alias': 'Type Code'},\n",
       "  {'name': 'school_typ',\n",
       "   'type': 'esriFieldTypeString',\n",
       "   'alias': 'School Type',\n",
       "   'length': 20},\n",
       "  {'name': 'schmgt', 'type': 'esriFieldTypeInteger', 'alias': 'Mngt Code'},\n",
       "  {'name': 'management',\n",
       "   'type': 'esriFieldTypeString',\n",
       "   'alias': 'Management',\n",
       "   'length': 50},\n",
       "  {'name': 'rururb',\n",
       "   'type': 'esriFieldTypeString',\n",
       "   'alias': 'Rural_Urban',\n",
       "   'length': 50},\n",
       "  {'name': 'location',\n",
       "   'type': 'esriFieldTypeString',\n",
       "   'alias': 'Location',\n",
       "   'length': 30},\n",
       "  {'name': 'pincode',\n",
       "   'type': 'esriFieldTypeString',\n",
       "   'alias': 'Pincode',\n",
       "   'length': 6},\n",
       "  {'name': 'dtname',\n",
       "   'type': 'esriFieldTypeString',\n",
       "   'alias': 'District',\n",
       "   'length': 50},\n",
       "  {'name': 'udise_stco',\n",
       "   'type': 'esriFieldTypeString',\n",
       "   'alias': 'udise_stco',\n",
       "   'length': 2},\n",
       "  {'name': 'stname',\n",
       "   'type': 'esriFieldTypeString',\n",
       "   'alias': 'State',\n",
       "   'length': 30},\n",
       "  {'name': 'vilname',\n",
       "   'type': 'esriFieldTypeString',\n",
       "   'alias': 'Village',\n",
       "   'length': 50},\n",
       "  {'name': 'longitude', 'type': 'esriFieldTypeDouble', 'alias': 'longitude'},\n",
       "  {'name': 'latitude', 'type': 'esriFieldTypeDouble', 'alias': 'latitude'},\n",
       "  {'name': 'stcode11',\n",
       "   'type': 'esriFieldTypeString',\n",
       "   'alias': 'stcode11',\n",
       "   'length': 2},\n",
       "  {'name': 'dtcode11',\n",
       "   'type': 'esriFieldTypeString',\n",
       "   'alias': 'dtcode11',\n",
       "   'length': 3}],\n",
       " 'features': []}"
      ]
     },
     "execution_count": 6,
     "metadata": {},
     "output_type": "execute_result"
    }
   ],
   "source": [
    "r = requests.get(URL_2)\n",
    "r.json()"
   ]
  },
  {
   "cell_type": "code",
   "execution_count": 7,
   "metadata": {},
   "outputs": [
    {
     "data": {
      "text/html": [
       "<div>\n",
       "<style scoped>\n",
       "    .dataframe tbody tr th:only-of-type {\n",
       "        vertical-align: middle;\n",
       "    }\n",
       "\n",
       "    .dataframe tbody tr th {\n",
       "        vertical-align: top;\n",
       "    }\n",
       "\n",
       "    .dataframe thead th {\n",
       "        text-align: right;\n",
       "    }\n",
       "</style>\n",
       "<table border=\"1\" class=\"dataframe\">\n",
       "  <thead>\n",
       "    <tr style=\"text-align: right;\">\n",
       "      <th></th>\n",
       "      <th>objectid_1</th>\n",
       "      <th>fid_school</th>\n",
       "      <th>objectid</th>\n",
       "      <th>school_code</th>\n",
       "      <th>school_name</th>\n",
       "      <th>schcat</th>\n",
       "      <th>school_cat</th>\n",
       "      <th>schtype</th>\n",
       "      <th>school_typ</th>\n",
       "      <th>schmgt</th>\n",
       "      <th>...</th>\n",
       "      <th>rururb</th>\n",
       "      <th>location</th>\n",
       "      <th>pincode</th>\n",
       "      <th>dtname</th>\n",
       "      <th>udise_stco</th>\n",
       "      <th>stname</th>\n",
       "      <th>longitude</th>\n",
       "      <th>latitude</th>\n",
       "      <th>stcode11</th>\n",
       "      <th>dtcode11</th>\n",
       "    </tr>\n",
       "  </thead>\n",
       "  <tbody>\n",
       "    <tr>\n",
       "      <th>1</th>\n",
       "      <td>1489000</td>\n",
       "      <td>632472</td>\n",
       "      <td>636979</td>\n",
       "      <td>37080101604</td>\n",
       "      <td>GMS AKCHAMAL</td>\n",
       "      <td>2</td>\n",
       "      <td>Upper Primary</td>\n",
       "      <td>2</td>\n",
       "      <td>Girls</td>\n",
       "      <td>1</td>\n",
       "      <td>...</td>\n",
       "      <td>1</td>\n",
       "      <td></td>\n",
       "      <td>194103</td>\n",
       "      <td>Kargil</td>\n",
       "      <td>37</td>\n",
       "      <td>LADAKH</td>\n",
       "      <td>76.1629</td>\n",
       "      <td>34.5561</td>\n",
       "      <td>38</td>\n",
       "      <td>004</td>\n",
       "    </tr>\n",
       "  </tbody>\n",
       "</table>\n",
       "<p>1 rows × 21 columns</p>\n",
       "</div>"
      ],
      "text/plain": [
       "   objectid_1  fid_school  objectid  school_code   school_name  schcat  \\\n",
       "1     1489000      632472    636979  37080101604  GMS AKCHAMAL       2   \n",
       "\n",
       "      school_cat  schtype school_typ  schmgt  ... rururb location pincode  \\\n",
       "1  Upper Primary        2      Girls       1  ...      1           194103   \n",
       "\n",
       "   dtname udise_stco  stname longitude  latitude  stcode11 dtcode11  \n",
       "1  Kargil         37  LADAKH   76.1629   34.5561        38      004  \n",
       "\n",
       "[1 rows x 21 columns]"
      ]
     },
     "execution_count": 7,
     "metadata": {},
     "output_type": "execute_result"
    }
   ],
   "source": [
    "school_df = get_school_df(URL, 1489000, 1)\n",
    "school_df"
   ]
  },
  {
   "cell_type": "markdown",
   "metadata": {},
   "source": [
    "## Probar con 1000 escuelas"
   ]
  },
  {
   "cell_type": "code",
   "execution_count": 8,
   "metadata": {},
   "outputs": [
    {
     "name": "stdout",
     "output_type": "stream",
     "text": [
      "1401000 schools obtained\n",
      "1402000 schools obtained\n",
      "1403000 schools obtained\n",
      "1404000 schools obtained\n",
      "1405000 schools obtained\n"
     ]
    }
   ],
   "source": [
    "schools_df = pd.DataFrame([])\n",
    "school_numbers = np.arange(1400001, 1405001)\n",
    "for school_number in school_numbers:\n",
    "    try:\n",
    "        school_df = get_school_df(URL, school_number, school_number)\n",
    "        schools_df = pd.concat([schools_df, school_df], ignore_index=True)\n",
    "        time.sleep(np.random.randint(0, 2))\n",
    "        \n",
    "    except Exception as err:\n",
    "        print(str(err))\n",
    "        print(\"Unable to get data\")\n",
    "        school_df = pd.DataFrame([])\n",
    "        schools_df = pd.concat([schools_df, school_df], ignore_index=True)\n",
    "        time.sleep(2)\n",
    "\n",
    "    if school_number % 1000 == 0:\n",
    "        time.sleep(4)\n",
    "        print(f\"{school_number} schools obtained\")\n",
    "        schools_df.to_csv(f\"schools_df_{school_number}.csv\", index=False, encoding='utf-8-sig')\n",
    "\n"
   ]
  },
  {
   "cell_type": "code",
   "execution_count": 10,
   "metadata": {},
   "outputs": [],
   "source": [
    "schools_df.to_csv(f\"schools_df_{school_number}.csv\", index=False, encoding='utf-8-sig')\n"
   ]
  }
 ],
 "metadata": {
  "interpreter": {
   "hash": "13ac3df32eef65f8ace8987a5332ff96461b2c59481d9f43d58c30a2f55284c7"
  },
  "kernelspec": {
   "display_name": "Python 3.9.2 64-bit",
   "name": "python3"
  },
  "language_info": {
   "codemirror_mode": {
    "name": "ipython",
    "version": 3
   },
   "file_extension": ".py",
   "mimetype": "text/x-python",
   "name": "python",
   "nbconvert_exporter": "python",
   "pygments_lexer": "ipython3",
   "version": "3.9.2"
  },
  "orig_nbformat": 4
 },
 "nbformat": 4,
 "nbformat_minor": 2
}
