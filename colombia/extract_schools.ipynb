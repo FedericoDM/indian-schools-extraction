{
 "cells": [
  {
   "attachments": {},
   "cell_type": "markdown",
   "metadata": {},
   "source": [
    "# Extract Data from Schools"
   ]
  },
  {
   "cell_type": "code",
   "execution_count": 1,
   "metadata": {},
   "outputs": [],
   "source": [
    "# Global Packages\n",
    "import requests\n",
    "import certifi\n",
    "from time import time\n",
    "import numpy as np\n",
    "import pandas as pd\n",
    "from bs4 import BeautifulSoup\n"
   ]
  },
  {
   "attachments": {},
   "cell_type": "markdown",
   "metadata": {},
   "source": [
    "### Parameters"
   ]
  },
  {
   "cell_type": "code",
   "execution_count": 2,
   "metadata": {},
   "outputs": [],
   "source": [
    "BASE_URL = \"https://www.redacademica.edu.co/colegios?name=&field_localidad_target_id=All\"\n",
    "HEADERS = { \"user-agent\": \"Mozilla/5.0 (Macintosh; Intel Mac OS X 10_15_7) AppleWebKit/537.36 (KHTML, like Gecko) Chrome/91.0.4472.114 Safari/537.36\",\n",
    "           \"Host\": \"www.redacademica.edu.co\" }"
   ]
  },
  {
   "cell_type": "code",
   "execution_count": 21,
   "metadata": {},
   "outputs": [],
   "source": [
    "# find all a's with href\n",
    "def get_urls_dict(soup):\n",
    "    \"\"\"\n",
    "    Getting school URLS from the given soup object\n",
    "    \"\"\"\n",
    "    urls_dict = {}\n",
    "    a_objects = soup.find_all(\"a\", href=True)\n",
    "    for a_object in a_objects:\n",
    "        if \"colegios/\" in str.lower(a_object[\"href\"]):\n",
    "            new_url = \"https://www.redacademica.edu.co\" + a_object[\"href\"]\n",
    "            urls_dict[a_object.text] = new_url\n",
    "\n",
    "    if \"\\n\\n\\n\\n\" in urls_dict:\n",
    "        del urls_dict[\"\\n\\n\\n\\n\"]\n",
    "\n",
    "    return urls_dict"
   ]
  },
  {
   "attachments": {},
   "cell_type": "markdown",
   "metadata": {},
   "source": [
    "### Playground"
   ]
  },
  {
   "cell_type": "code",
   "execution_count": 3,
   "metadata": {},
   "outputs": [],
   "source": [
    "r = requests.get(BASE_URL, headers=HEADERS)\n",
    "soup = BeautifulSoup(r.content, \"html.parser\")"
   ]
  },
  {
   "cell_type": "code",
   "execution_count": 23,
   "metadata": {},
   "outputs": [
    {
     "data": {
      "text/plain": [
       "{'Colegio Aquileo Parra': 'https://www.redacademica.edu.co/colegios/colegio-aquileo-parra',\n",
       " 'IED Colegio El Verjon': 'https://www.redacademica.edu.co/colegios/ied-colegio-el-verjon',\n",
       " 'Colegio Altamira Sur Oriental (IED)': 'https://www.redacademica.edu.co/colegios/colegio-altamira-sur-oriental-ied',\n",
       " 'Colegio Montebello (IED)': 'https://www.redacademica.edu.co/colegios/colegio-montebello-ied',\n",
       " 'Colegio Atenas (IED)': 'https://www.redacademica.edu.co/colegios/colegio-atenas-ied',\n",
       " 'Colegio Jose Joaquin Castro Martinez (IED)': 'https://www.redacademica.edu.co/colegios/colegio-jose-joaquin-castro-martinez-ied',\n",
       " 'Colegio Entre Nubes Sur Oriental (IED)': 'https://www.redacademica.edu.co/colegios/colegio-entre-nubes-sur-oriental-ied',\n",
       " 'Colegio Diego Montaña Cuellar (IED)': 'https://www.redacademica.edu.co/colegios/colegio-diego-montana-cuellar-ied',\n",
       " 'Colegio Gran Yomasa I. E. D.': 'https://www.redacademica.edu.co/colegios/colegio-gran-yomasa-i-e-d',\n",
       " 'Colegio Marco Fidel Suárez (IED)': 'https://www.redacademica.edu.co/colegios/colegio-marco-fidel-suarez-ied',\n",
       " 'Colegio Motorista (CED)': 'https://www.redacademica.edu.co/colegios/colegio-motorista-ced',\n",
       " 'Colegio Orlando Higuita Rojas (IED)': 'https://www.redacademica.edu.co/colegios/colegio-orlando-higuita-rojas-ied',\n",
       " 'Colegio Carlos Pizarro Leongómez (IED)': 'https://www.redacademica.edu.co/colegios/colegio-carlos-pizarro-leongomez-ied',\n",
       " 'Colegio Jose Francisco Socarras (IED)': 'https://www.redacademica.edu.co/colegios/colegio-jose-francisco-socarras-ied',\n",
       " 'Colegio Debora Arango Perez (IED)': 'https://www.redacademica.edu.co/colegios/colegio-debora-arango-perez-ied',\n",
       " 'Colegio Luis Lopez De Mesa (IED)': 'https://www.redacademica.edu.co/colegios/colegio-luis-lopez-de-mesa-ied',\n",
       " 'Colegio El Porvenir (IED)': 'https://www.redacademica.edu.co/colegios/colegio-el-porvenir-ied',\n",
       " 'Colegio Carlos Arango Velez (IED)': 'https://www.redacademica.edu.co/colegios/colegio-carlos-arango-velez-ied',\n",
       " 'Colegio Class (IED)': 'https://www.redacademica.edu.co/colegios/colegio-class-ied',\n",
       " 'Colegio Las Américas (IED)': 'https://www.redacademica.edu.co/colegios/colegio-las-americas-ied'}"
      ]
     },
     "execution_count": 23,
     "metadata": {},
     "output_type": "execute_result"
    }
   ],
   "source": [
    "urls_dict = get_urls_dict(soup)\n",
    "urls_dict"
   ]
  },
  {
   "cell_type": "code",
   "execution_count": 25,
   "metadata": {},
   "outputs": [],
   "source": [
    "# Getting info from first school\n",
    "school_name = list(urls_dict.keys())[0]\n",
    "school_url = urls_dict[school_name]\n",
    "school_r = requests.get(school_url, headers=HEADERS)\n",
    "school_soup = BeautifulSoup(school_r.content, \"html.parser\")"
   ]
  },
  {
   "cell_type": "code",
   "execution_count": 26,
   "metadata": {},
   "outputs": [
    {
     "data": {
      "text/plain": [
       "<ul class=\"school-info__list\">\n",
       "<li class=\"school-info__list-item\">\n",
       "<h4>Jornada</h4>\n",
       "<p>\n",
       "<div class=\"field field--name-field-jornada field--type-list-string field--label-hidden field__items\">\n",
       "<div class=\"field__item\">Mañana</div>\n",
       "<div class=\"field__item\">Tarde</div>\n",
       "<div class=\"field__item\">Nocturna</div>\n",
       "</div>\n",
       "</p>\n",
       "</li>\n",
       "<li class=\"school-info__list-item\">\n",
       "<h4>Dirección</h4>\n",
       "<p>Carrera 18A # 187-75</p>\n",
       "</li>\n",
       "<li class=\"school-info__list-item\">\n",
       "<h4>Correo</h4>\n",
       "<a href=\"mailto:insdiaquileoparrav1@educacionbogota.edu.co\">insdiaquileoparrav1@educacionbogota.edu.co</a>\n",
       "</li>\n",
       "<li class=\"school-info__list-item\">\n",
       "<h4>Teléfono</h4>\n",
       "<a href=\"tel:6745973-6745973\">6745973 - 6745973</a>\n",
       "</li>\n",
       "<li class=\"school-info__list-item\">\n",
       "<h4>Horario de Atención</h4>\n",
       "<p>8:00 a.m a 4:00 p.m.</p>\n",
       "</li>\n",
       "</ul>"
      ]
     },
     "execution_count": 26,
     "metadata": {},
     "output_type": "execute_result"
    }
   ],
   "source": [
    "info_container = school_soup.find(\"ul\", {\"class\": \"school-info__list\"})\n",
    "info_container"
   ]
  }
 ],
 "metadata": {
  "kernelspec": {
   "display_name": "Python 3",
   "language": "python",
   "name": "python3"
  },
  "language_info": {
   "codemirror_mode": {
    "name": "ipython",
    "version": 3
   },
   "file_extension": ".py",
   "mimetype": "text/x-python",
   "name": "python",
   "nbconvert_exporter": "python",
   "pygments_lexer": "ipython3",
   "version": "3.9.2"
  },
  "orig_nbformat": 4,
  "vscode": {
   "interpreter": {
    "hash": "eb56503e6c8360dc89efe5118cedf5301d846b45ea25a73e798949856c7eed07"
   }
  }
 },
 "nbformat": 4,
 "nbformat_minor": 2
}
